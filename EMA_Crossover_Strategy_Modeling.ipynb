{
 "cells": [
  {
   "cell_type": "markdown",
   "id": "1712208f",
   "metadata": {},
   "source": [
    "# EMA Crossover Strategy Modeling"
   ]
  },
  {
   "cell_type": "code",
   "execution_count": 257,
   "id": "0c318272",
   "metadata": {},
   "outputs": [],
   "source": [
    "import yfinance as yf\n",
    "import pandas as pd\n",
    "import matplotlib.pyplot as plt\n",
    "import random\n",
    "import requests\n",
    "from bs4 import BeautifulSoup\n",
    "import seaborn as sns\n",
    "import numpy as np\n",
    "from sklearn.model_selection import train_test_split\n",
    "from sklearn.tree import DecisionTreeClassifier, plot_tree\n",
    "from sklearn.metrics import classification_report, confusion_matrix, ConfusionMatrixDisplay\n",
    "import mplfinance as mpf\n",
    "from lightgbm import LGBMClassifier\n",
    "from sklearn.ensemble import RandomForestClassifier\n",
    "from xgboost import XGBClassifier\n",
    "from catboost import CatBoostClassifier\n",
    "from sklearn.metrics import roc_curve, auc\n",
    "import ipywidgets as widgets\n",
    "from IPython.display import display, clear_output\n",
    "from datetime import timedelta\n",
    "from sklearn.model_selection import RandomizedSearchCV\n",
    "import matplotlib.lines as mlines\n",
    "from matplotlib.ticker import FuncFormatter"
   ]
  },
  {
   "cell_type": "code",
   "execution_count": 229,
   "id": "2bb74ba2",
   "metadata": {},
   "outputs": [
    {
     "name": "stderr",
     "output_type": "stream",
     "text": [
      "C:\\Users\\rusla\\AppData\\Local\\Temp\\ipykernel_38044\\631629297.py:4: FutureWarning: Passing literal html to 'read_html' is deprecated and will be removed in a future version. To read from a literal string, wrap it in a 'StringIO' object.\n",
      "  table = pd.read_html(str(BeautifulSoup(html, 'lxml').find('table')))[0]\n",
      "[*********************100%***********************]  503 of 503 completed\n"
     ]
    }
   ],
   "source": [
    "def get_sp500_tickers():\n",
    "    url = 'https://www.slickcharts.com/sp500'\n",
    "    html = requests.get(url, headers={'User-Agent': 'Mozilla/5.0'}).text\n",
    "    table = pd.read_html(str(BeautifulSoup(html, 'lxml').find('table')))[0]\n",
    "    return table['Symbol'].str.replace('.', '-', regex=False).tolist()\n",
    "\n",
    "tickers = get_sp500_tickers()\n",
    "df = yf.download(tickers, start='2010-01-01', end='2025-04-22', group_by='ticker', auto_adjust=True)"
   ]
  },
  {
   "cell_type": "code",
   "execution_count": 230,
   "id": "786b092f",
   "metadata": {},
   "outputs": [
    {
     "data": {
      "text/html": [
       "<div>\n",
       "<style scoped>\n",
       "    .dataframe tbody tr th:only-of-type {\n",
       "        vertical-align: middle;\n",
       "    }\n",
       "\n",
       "    .dataframe tbody tr th {\n",
       "        vertical-align: top;\n",
       "    }\n",
       "\n",
       "    .dataframe thead th {\n",
       "        text-align: right;\n",
       "    }\n",
       "</style>\n",
       "<table border=\"1\" class=\"dataframe\">\n",
       "  <thead>\n",
       "    <tr style=\"text-align: right;\">\n",
       "      <th></th>\n",
       "      <th>Date</th>\n",
       "      <th>Ticker</th>\n",
       "      <th>Open</th>\n",
       "      <th>High</th>\n",
       "      <th>Low</th>\n",
       "      <th>Close</th>\n",
       "      <th>Volume</th>\n",
       "    </tr>\n",
       "  </thead>\n",
       "  <tbody>\n",
       "    <tr>\n",
       "      <th>0</th>\n",
       "      <td>2010-01-04</td>\n",
       "      <td>PHM</td>\n",
       "      <td>8.600334</td>\n",
       "      <td>8.806329</td>\n",
       "      <td>8.574583</td>\n",
       "      <td>8.789163</td>\n",
       "      <td>6121300.0</td>\n",
       "    </tr>\n",
       "    <tr>\n",
       "      <th>1</th>\n",
       "      <td>2010-01-04</td>\n",
       "      <td>BLDR</td>\n",
       "      <td>3.930000</td>\n",
       "      <td>3.930000</td>\n",
       "      <td>3.750000</td>\n",
       "      <td>3.770000</td>\n",
       "      <td>494400.0</td>\n",
       "    </tr>\n",
       "    <tr>\n",
       "      <th>2</th>\n",
       "      <td>2010-01-04</td>\n",
       "      <td>URI</td>\n",
       "      <td>9.670518</td>\n",
       "      <td>9.875237</td>\n",
       "      <td>9.543788</td>\n",
       "      <td>9.787500</td>\n",
       "      <td>1692500.0</td>\n",
       "    </tr>\n",
       "    <tr>\n",
       "      <th>3</th>\n",
       "      <td>2010-01-04</td>\n",
       "      <td>POOL</td>\n",
       "      <td>15.746689</td>\n",
       "      <td>15.852480</td>\n",
       "      <td>15.583932</td>\n",
       "      <td>15.738551</td>\n",
       "      <td>217100.0</td>\n",
       "    </tr>\n",
       "    <tr>\n",
       "      <th>4</th>\n",
       "      <td>2010-01-04</td>\n",
       "      <td>BLK</td>\n",
       "      <td>158.998285</td>\n",
       "      <td>161.389492</td>\n",
       "      <td>157.294131</td>\n",
       "      <td>160.702438</td>\n",
       "      <td>238700.0</td>\n",
       "    </tr>\n",
       "  </tbody>\n",
       "</table>\n",
       "</div>"
      ],
      "text/plain": [
       "        Date Ticker        Open        High         Low       Close     Volume\n",
       "0 2010-01-04    PHM    8.600334    8.806329    8.574583    8.789163  6121300.0\n",
       "1 2010-01-04   BLDR    3.930000    3.930000    3.750000    3.770000   494400.0\n",
       "2 2010-01-04    URI    9.670518    9.875237    9.543788    9.787500  1692500.0\n",
       "3 2010-01-04   POOL   15.746689   15.852480   15.583932   15.738551   217100.0\n",
       "4 2010-01-04    BLK  158.998285  161.389492  157.294131  160.702438   238700.0"
      ]
     },
     "execution_count": 230,
     "metadata": {},
     "output_type": "execute_result"
    }
   ],
   "source": [
    "# Multi to singlular column transformation\n",
    "df.columns = df.columns.swaplevel(0, 1)\n",
    "df_flat = df.stack(level=1, future_stack=True).reset_index()\n",
    "df_flat.columns.name = None\n",
    "df_flat.columns = [col if not isinstance(col, tuple) else col[-1] for col in df_flat.columns]\n",
    "df_flat.head()"
   ]
  },
  {
   "cell_type": "code",
   "execution_count": 231,
   "id": "1d266645",
   "metadata": {},
   "outputs": [
    {
     "data": {
      "text/plain": [
       "Date      0\n",
       "Ticker    0\n",
       "Open      0\n",
       "High      0\n",
       "Low       0\n",
       "Close     0\n",
       "Volume    0\n",
       "dtype: int64"
      ]
     },
     "execution_count": 231,
     "metadata": {},
     "output_type": "execute_result"
    }
   ],
   "source": [
    "df_flat.dropna(inplace=True)\n",
    "df_flat.isnull().sum()"
   ]
  },
  {
   "cell_type": "markdown",
   "id": "0a888c20",
   "metadata": {},
   "source": [
    "## Technical Indicators\n",
    "\n",
    "- __RSI (Relative Strength Index):__ Measures the speed and magnitude of recent price changes to identify overbought (>70) or oversold (<30) conditions.\n",
    "\n",
    "    - If RSI > 50 then uptrend is gaining strength\n",
    "    - If RSI < 50 then momentum is weakening\n",
    "\n",
    "<br>\n",
    "\n",
    "- __MACD (Moving Average Convergence Divergence):__ Captures the difference between short and long term momentum via EMAs.\n",
    "\n",
    "    - MACD = EMA12 - EMA26\n",
    "    - Signal line = EMA9 of MACD\n",
    "    - macd > signal = bullish momentum\n",
    "\n",
    "<br>\n",
    "\n",
    "- __ATR (Average True Range):__  Is a volatility indicator that reflects the average price variation of an asset.\n",
    "\n",
    "    - Calculates the maximum of high-low, high-previous close, and low-previous close\n",
    "    - Averages this over a rolling window, usually set to 14 days\n",
    "    - Higher ATR can indicate breakout potential or stop-loss placement zones\n",
    "\n",
    "<br>\n",
    "\n",
    "- __CCI (Commodity Channel Index):__ Detects price deviations from a statistical mean.\n",
    "\n",
    "    - Computes the typical price = (High + Low + Close) / 3\n",
    "    - Measures how far the typical price deviates from its moving average\n",
    "    - CCI > +100 suggests strong bullish deviation\n",
    "    - CCI < -100 implies a potential trend reversal\n",
    "\n",
    "<br>\n",
    "\n",
    "- __HMA (Hull Moving Average):__ Is a smoother, faster reacting moving average used to reduce lag.\n",
    "\n",
    "    - Combines weighted averages of two rolling means\n",
    "    - Applies a square root weighted smoothing"
   ]
  },
  {
   "cell_type": "code",
   "execution_count": 233,
   "id": "8af83ef2",
   "metadata": {},
   "outputs": [],
   "source": [
    "def compute_rsi(series, window=14):\n",
    "    delta = series.diff()\n",
    "    gain = delta.clip(lower=0)\n",
    "    loss = -delta.clip(upper=0)\n",
    "\n",
    "    avg_gain = gain.ewm(span=window, adjust=False).mean()\n",
    "    avg_loss = loss.ewm(span=window, adjust=False).mean()\n",
    "\n",
    "    rs = avg_gain / avg_loss\n",
    "    rsi = 100 - (100 / (1 + rs))\n",
    "    return rsi\n",
    "\n",
    "def calculate_macd(df):\n",
    "    ema12 = df['Close'].ewm(span=12, adjust=False).mean()\n",
    "    ema26 = df['Close'].ewm(span=26, adjust=False).mean()\n",
    "    macd = ema12 - ema26\n",
    "    signal = macd.ewm(span=9, adjust=False).mean()\n",
    "    return macd, signal\n",
    "\n",
    "def calculate_atr(df, period=14):\n",
    "    high_low = df['High'] - df['Low']\n",
    "    high_close = (df['High'] - df['Close'].shift()).abs()\n",
    "    low_close = (df['Low'] - df['Close'].shift()).abs()\n",
    "    tr = pd.concat([high_low, high_close, low_close], axis=1).max(axis=1)\n",
    "    atr = tr.rolling(window=period).mean()\n",
    "    return atr\n",
    "\n",
    "def calculate_cci(df, period=20):\n",
    "    tp = (df['High'] + df['Low'] + df['Close']) / 3\n",
    "    sma = tp.rolling(window=period).mean()\n",
    "    mad = tp.rolling(window=period).apply(lambda x: np.mean(np.abs(x - np.mean(x))))\n",
    "    cci = (tp - sma) / (0.015 * mad)\n",
    "    return cci\n",
    "\n",
    "def calculate_hma(close, period=20):\n",
    "    half = close.rolling(window=period//2).mean()\n",
    "    full = close.rolling(window=period).mean()\n",
    "    raw_hma = 2 * half - full\n",
    "    hma = raw_hma.rolling(window=int(np.sqrt(period))).mean()\n",
    "    return hma\n"
   ]
  },
  {
   "cell_type": "markdown",
   "id": "985b430c",
   "metadata": {},
   "source": [
    "## Feature Engineering\n",
    "\n",
    "- __EMA10, EMA20, EMA50, EMA200:__ Exponential moving averages over different spans, these provide smoothed price trends, with the 50/200 pair used to detect \"golden cross\" signals.\n",
    "\n",
    "- __momentum_5:__ Percentage change over the last 5 days, a simple measure of short term momentum or trend acceleration.\n",
    "\n",
    "- __ema_distance:__ Difference between EMA50 and EMA200, helps quantify how far the two EMAs have diverged.\n",
    "\n",
    "- __ema50_slope:__ 5 day slope of the EMA50 line, provides insight into the trajectory and speed of trend development.\n",
    "\n",
    "- __price_ema200_dist:__ Distance between the current close and EMA200.\n",
    "\n",
    "- __EMA50_prev/EMA200_prev:__ Shifted versions of EMA50 and EMA200, used to identify crossovers.\n",
    "\n",
    "- __RSI_14:__ 14 day Relative Strength Index, gauges overbought or oversold conditions.\n",
    "\n",
    "- __MACD/MACD_signal:__ MACD and its signal line.\n",
    "\n",
    "- __macd_diff:__ Difference between MACD and its signal line, indicates strength of the MACD trend.\n",
    "\n",
    "- __ATR_14:__ Average True Range over 14 days, measuring volatility.\n",
    "\n",
    "- __CCI_20:__ Commodity Channel Index over 20 days, another momentum indicator.\n",
    "\n",
    "- __BB_MID/BB_UPPER/BB_LOWER:__ Bollinger Bands based on 20 day mean and standard deviation.\n",
    "\n",
    "- __HMA_20:__ Hull Moving Average with 20 period window.\n",
    "\n",
    "<br>\n",
    "\n",
    "__Labeling Strategy:__ Used a hybrid logic for labeling crossover signals as profitable (1) or not profitable (0)\n",
    "- __forward_return:__ The 10 day forward return is calculated as the percentage return from the current date to 10 trading days ahead.\n",
    "- __Label = 1:__\n",
    "    - If the forward return exceeds +3% OR\n",
    "    - If the crossover is supported by bullish MACD and RSI momentum (MACD > MACD Signal & RSI > 50)\n",
    "- __Label = 0:__ All other cases\n",
    "\n",
    "- *Why did I end up using this strategy over a standard label that took `forward_return` > 0.3?*\n",
    "    - It mislabeled \"slow\" crossovers that took longer to become profitable as \"0\"\n",
    "    - Mislabeled \"bad\" crossovers as good due to short term volatility\n",
    "    - Saw many signals labeled as \"bad\" were actually good in hindsight if held longer, also saw \"good\" labeled signals showing brief momentum and then failing\n"
   ]
  },
  {
   "cell_type": "code",
   "execution_count": 235,
   "id": "55be306f",
   "metadata": {},
   "outputs": [
    {
     "name": "stderr",
     "output_type": "stream",
     "text": [
      "C:\\Users\\rusla\\AppData\\Local\\Temp\\ipykernel_38044\\1616348723.py:20: DeprecationWarning: DataFrameGroupBy.apply operated on the grouping columns. This behavior is deprecated, and in a future version of pandas the grouping columns will be excluded from the operation. Either pass `include_groups=False` to exclude the groupings or explicitly select the grouping columns after groupby to silence this warning.\n",
      "  df_flat[['MACD', 'MACD_signal']] = df_flat.groupby('Ticker').apply(\n",
      "C:\\Users\\rusla\\AppData\\Local\\Temp\\ipykernel_38044\\1616348723.py:29: DeprecationWarning: DataFrameGroupBy.apply operated on the grouping columns. This behavior is deprecated, and in a future version of pandas the grouping columns will be excluded from the operation. Either pass `include_groups=False` to exclude the groupings or explicitly select the grouping columns after groupby to silence this warning.\n",
      "  df_flat['ATR_14'] = df_flat.groupby('Ticker').apply(calculate_atr).reset_index(level=0, drop=True)\n",
      "C:\\Users\\rusla\\AppData\\Local\\Temp\\ipykernel_38044\\1616348723.py:31: DeprecationWarning: DataFrameGroupBy.apply operated on the grouping columns. This behavior is deprecated, and in a future version of pandas the grouping columns will be excluded from the operation. Either pass `include_groups=False` to exclude the groupings or explicitly select the grouping columns after groupby to silence this warning.\n",
      "  df_flat['CCI_20'] = df_flat.groupby('Ticker').apply(calculate_cci).reset_index(level=0, drop=True)\n"
     ]
    }
   ],
   "source": [
    "# FEATURE ENGINEERING\n",
    "df_flat['EMA10'] = df_flat.groupby('Ticker')['Close'].transform(lambda x: x.ewm(span=10, adjust=False).mean())\n",
    "df_flat['EMA20'] = df_flat.groupby('Ticker')['Close'].transform(lambda x: x.ewm(span=20, adjust=False).mean())\n",
    "df_flat['EMA50'] = df_flat.groupby('Ticker')['Close'].transform(lambda x: x.ewm(span=50).mean())\n",
    "df_flat['EMA200'] = df_flat.groupby('Ticker')['Close'].transform(lambda x: x.ewm(span=200).mean())\n",
    "\n",
    "df_flat['momentum_5'] = df_flat.groupby('Ticker')['Close'].pct_change(5, fill_method=None)\n",
    "\n",
    "df_flat['ema_distance'] = df_flat['EMA50'] - df_flat['EMA200']\n",
    "\n",
    "df_flat['ema50_slope'] = df_flat.groupby('Ticker')['EMA50'].diff(5)\n",
    "\n",
    "df_flat['price_ema200_dist'] = df_flat['Close'] - df_flat['EMA200']\n",
    "\n",
    "df_flat['EMA50_prev'] = df_flat.groupby('Ticker')['EMA50'].shift(1)\n",
    "df_flat['EMA200_prev'] = df_flat.groupby('Ticker')['EMA200'].shift(1)\n",
    "\n",
    "df_flat['RSI_14'] = df_flat.groupby('Ticker')['Close'].transform(lambda x: compute_rsi(x))\n",
    "\n",
    "df_flat[['MACD', 'MACD_signal']] = df_flat.groupby('Ticker').apply(\n",
    "    lambda x: pd.DataFrame({\n",
    "        'MACD': calculate_macd(x)[0],\n",
    "        'MACD_signal': calculate_macd(x)[1]\n",
    "    }, index=x.index)\n",
    ").reset_index(drop=True)\n",
    "\n",
    "df_flat['macd_diff'] = df_flat['MACD'] - df_flat['MACD_signal']\n",
    "\n",
    "df_flat['ATR_14'] = df_flat.groupby('Ticker').apply(calculate_atr).reset_index(level=0, drop=True)\n",
    "\n",
    "df_flat['CCI_20'] = df_flat.groupby('Ticker').apply(calculate_cci).reset_index(level=0, drop=True)\n",
    "\n",
    "df_flat['BB_MID'] = df_flat.groupby('Ticker')['Close'].transform(lambda x: x.rolling(window=20).mean())\n",
    "df_flat['BB_STD'] = df_flat.groupby('Ticker')['Close'].transform(lambda x: x.rolling(window=20).std())\n",
    "df_flat['BB_UPPER'] = df_flat['BB_MID'] + 2 * df_flat['BB_STD']\n",
    "df_flat['BB_LOWER'] = df_flat['BB_MID'] - 2 * df_flat['BB_STD']\n",
    "\n",
    "df_flat['HMA_20'] = df_flat.groupby('Ticker')['Close'].transform(calculate_hma)\n",
    "\n",
    "df_flat['crossover'] = (\n",
    "    (df_flat['EMA50_prev'] < df_flat['EMA200_prev']) &\n",
    "    (df_flat['EMA50'] > df_flat['EMA200'])\n",
    ")\n",
    "\n",
    "df_flat['forward_return'] = df_flat.groupby('Ticker')['Close'].shift(-10) / df_flat['Close'] - 1\n",
    "\n",
    "\n",
    "df_flat['label'] = np.where(\n",
    "    (df_flat['forward_return'] > 0.03),\n",
    "    1,\n",
    "    np.where(\n",
    "        (df_flat['MACD'] > df_flat['MACD_signal']) & (df_flat['RSI_14'] > 50),\n",
    "        1,\n",
    "        0\n",
    "    )\n",
    ")   "
   ]
  },
  {
   "cell_type": "markdown",
   "id": "7a672060",
   "metadata": {},
   "source": [
    "## Feature Preparation\n",
    "Don't need to apply dummy encoding for the `'Ticker'` column because this model will be trained on one ticker at a time. \n",
    "\n",
    "Likewise, it's unnecessaryto do any standard feature scaling because:\n",
    "- All input features are relative, technical indicators which are already on similar scales.\n",
    "- It simplifies preprocessing without compromising model accuracy."
   ]
  },
  {
   "cell_type": "code",
   "execution_count": 236,
   "id": "3c0f3d51",
   "metadata": {},
   "outputs": [],
   "source": [
    "df_model = df_flat[df_flat.crossover].copy()\n",
    "\n",
    "features = [\n",
    "    'EMA10', 'EMA20', 'EMA50', 'EMA200',\n",
    "    'momentum_5', 'ema_distance', 'ema50_slope',\n",
    "    'price_ema200_dist', 'RSI_14', 'MACD', 'MACD_signal', 'macd_diff',\n",
    "    'ATR_14', 'CCI_20', 'BB_MID', 'BB_STD', 'BB_UPPER', 'BB_LOWER',\n",
    "    'HMA_20'\n",
    "]\n",
    "\n",
    "X = df_model[features]\n",
    "y = df_model['label']"
   ]
  },
  {
   "cell_type": "markdown",
   "id": "4d755dc8",
   "metadata": {},
   "source": [
    "## Train/Test Split\n",
    "\n",
    "Split the dataset into training and test sets using `train_test_split()` with the following parameters:\n",
    "- 70% training, 30% testing\n",
    "- Stratified by the target variable `label` to ensure balanced class distribution in both the training and test sets\n",
    "- A fixed `random_state` for reproducibility"
   ]
  },
  {
   "cell_type": "code",
   "execution_count": 237,
   "id": "dba46bf4",
   "metadata": {},
   "outputs": [],
   "source": [
    "X_train, X_test, y_train, y_test = train_test_split(X, y, stratify=y, test_size=0.3, random_state=42)"
   ]
  },
  {
   "cell_type": "markdown",
   "id": "849db92b",
   "metadata": {},
   "source": [
    "## Modeling \n",
    "\n",
    "I'll be trying out different models for training, the goal will be to train the best supervised model that can accurately identify “good” crossover events (golden crosses that yield a >3% return within 10 days).\n",
    "\n",
    "Will be a focus on a variety of tree based ensemble models, that are well suited for tabular financial data and robust against missing values, which are common in time series datasets, therefore classifiers SVM and Logistic Regression will be excluded."
   ]
  },
  {
   "cell_type": "code",
   "execution_count": 294,
   "id": "8c3d16b7",
   "metadata": {},
   "outputs": [
    {
     "name": "stdout",
     "output_type": "stream",
     "text": [
      "[LightGBM] [Info] Number of positive: 2391, number of negative: 1594\n",
      "[LightGBM] [Info] Auto-choosing col-wise multi-threading, the overhead of testing was 0.000451 seconds.\n",
      "You can set `force_col_wise=true` to remove the overhead.\n",
      "[LightGBM] [Info] Total Bins 4845\n",
      "[LightGBM] [Info] Number of data points in the train set: 3985, number of used features: 19\n",
      "[LightGBM] [Info] [binary:BoostFromScore]: pavg=0.600000 -> initscore=0.405465\n",
      "[LightGBM] [Info] Start training from score 0.405465\n",
      "              precision    recall  f1-score   support\n",
      "\n",
      "           0       0.74      0.93      0.82       683\n",
      "           1       0.94      0.78      0.85      1025\n",
      "\n",
      "    accuracy                           0.84      1708\n",
      "   macro avg       0.84      0.85      0.84      1708\n",
      "weighted avg       0.86      0.84      0.84      1708\n",
      "\n"
     ]
    }
   ],
   "source": [
    "# LGBM Classifier\n",
    "\n",
    "LGBM = LGBMClassifier(random_state=42)\n",
    "LGBM.fit(X_train, y_train)\n",
    "\n",
    "y_pred = LGBM.predict(X_test)\n",
    "print(classification_report(y_test, y_pred))"
   ]
  },
  {
   "cell_type": "code",
   "execution_count": 295,
   "id": "eb53d6e8",
   "metadata": {},
   "outputs": [
    {
     "name": "stdout",
     "output_type": "stream",
     "text": [
      "              precision    recall  f1-score   support\n",
      "\n",
      "           0       0.73      0.96      0.83       683\n",
      "           1       0.96      0.76      0.85      1025\n",
      "\n",
      "    accuracy                           0.84      1708\n",
      "   macro avg       0.84      0.86      0.84      1708\n",
      "weighted avg       0.87      0.84      0.84      1708\n",
      "\n"
     ]
    }
   ],
   "source": [
    "# Decision Tree Classifier\n",
    "\n",
    "dt = DecisionTreeClassifier(max_depth=5, random_state=42)\n",
    "dt.fit(X_train, y_train)\n",
    "\n",
    "y_pred = dt.predict(X_test)\n",
    "print(classification_report(y_test, y_pred))"
   ]
  },
  {
   "cell_type": "code",
   "execution_count": 296,
   "id": "f793c152",
   "metadata": {},
   "outputs": [
    {
     "name": "stdout",
     "output_type": "stream",
     "text": [
      "              precision    recall  f1-score   support\n",
      "\n",
      "           0       0.73      0.95      0.83       683\n",
      "           1       0.96      0.77      0.85      1025\n",
      "\n",
      "    accuracy                           0.84      1708\n",
      "   macro avg       0.84      0.86      0.84      1708\n",
      "weighted avg       0.87      0.84      0.84      1708\n",
      "\n"
     ]
    }
   ],
   "source": [
    "# Random Forest Classifier\n",
    "\n",
    "rf = RandomForestClassifier(n_estimators=100, random_state=42)\n",
    "rf.fit(X_train, y_train)\n",
    "\n",
    "y_pred = rf.predict(X_test)\n",
    "print(classification_report(y_test, y_pred))\n"
   ]
  },
  {
   "cell_type": "code",
   "execution_count": 297,
   "id": "82787d59",
   "metadata": {},
   "outputs": [
    {
     "name": "stderr",
     "output_type": "stream",
     "text": [
      "c:\\Users\\rusla\\AppData\\Local\\Programs\\Python\\Python313\\Lib\\site-packages\\xgboost\\training.py:183: UserWarning: [13:32:54] WARNING: C:\\actions-runner\\_work\\xgboost\\xgboost\\src\\learner.cc:738: \n",
      "Parameters: { \"use_label_encoder\" } are not used.\n",
      "\n",
      "  bst.update(dtrain, iteration=i, fobj=obj)\n"
     ]
    },
    {
     "name": "stdout",
     "output_type": "stream",
     "text": [
      "              precision    recall  f1-score   support\n",
      "\n",
      "           0       0.74      0.86      0.79       683\n",
      "           1       0.89      0.80      0.84      1025\n",
      "\n",
      "    accuracy                           0.82      1708\n",
      "   macro avg       0.82      0.83      0.82      1708\n",
      "weighted avg       0.83      0.82      0.82      1708\n",
      "\n"
     ]
    }
   ],
   "source": [
    "# XGBoost Classifier\n",
    "\n",
    "xgb = XGBClassifier(use_label_encoder=False, eval_metric='logloss', random_state=42)\n",
    "xgb.fit(X_train, y_train)\n",
    "\n",
    "y_pred = xgb.predict(X_test)\n",
    "print(classification_report(y_test, y_pred))"
   ]
  },
  {
   "cell_type": "code",
   "execution_count": 298,
   "id": "c432b818",
   "metadata": {},
   "outputs": [
    {
     "name": "stdout",
     "output_type": "stream",
     "text": [
      "              precision    recall  f1-score   support\n",
      "\n",
      "           0       0.73      0.97      0.83       683\n",
      "           1       0.97      0.76      0.86      1025\n",
      "\n",
      "    accuracy                           0.85      1708\n",
      "   macro avg       0.85      0.87      0.85      1708\n",
      "weighted avg       0.88      0.85      0.85      1708\n",
      "\n"
     ]
    }
   ],
   "source": [
    "# CatBoost Classifier\n",
    "\n",
    "cat = CatBoostClassifier(verbose=0, random_state=42)\n",
    "cat.fit(X_train, y_train)\n",
    "\n",
    "y_pred = cat.predict(X_test)\n",
    "print(classification_report(y_test, y_pred))"
   ]
  },
  {
   "cell_type": "markdown",
   "id": "38f3288a",
   "metadata": {},
   "source": [
    "## Model Observations\n",
    "\n",
    "- All models perform similarly with accuracies between 80–82%\n",
    "\n",
    "- Random Forest and Decision Tree models show strong precision and recall for Class 1, though the decision tree may slightly overfit due to its sharp class separation.\n",
    "\n",
    "- XGBoost slightly underperforms relative to others, which may be improved with hyperparameter tuning\n",
    "\n",
    "- CatBoost shows reliable precision, though its recall is on the lower side\n",
    "\n",
    "- LightGBM appears to be a top performer, striking a balance between precision (0.94) and recall (0.74)"
   ]
  },
  {
   "cell_type": "markdown",
   "id": "c4b4f6e1",
   "metadata": {},
   "source": [
    "## Hyperparameter Tuning\n",
    "\n",
    "After completing the initial training models I'm favoring the LightGBM classifier due to its balance and higher attention to recall. In the context of predicting profitable trades, failing to catch good opportunities (false negatives) is more costly than making a few extra attempts that don’t pan out (false positives) which is why I'm putting more attention to recall with the most minimal sacrifice to precision. \n",
    "\n",
    "We will go through tuning all the possible models to get the evaluation results were looking for"
   ]
  },
  {
   "cell_type": "code",
   "execution_count": 259,
   "id": "9b86684a",
   "metadata": {},
   "outputs": [
    {
     "name": "stdout",
     "output_type": "stream",
     "text": [
      "Fitting 3 folds for each of 100 candidates, totalling 300 fits\n",
      "Best Parameters: {'subsample': 0.8, 'reg_lambda': 1, 'reg_alpha': 0.1, 'n_estimators': 100, 'min_child_weight': 3, 'max_depth': 3, 'learning_rate': 0.05, 'gamma': 0.1, 'colsample_bytree': 0.9}\n",
      "Classification Report:               precision    recall  f1-score   support\n",
      "\n",
      "           0       0.72      0.99      0.84       683\n",
      "           1       0.99      0.75      0.85      1025\n",
      "\n",
      "    accuracy                           0.85      1708\n",
      "   macro avg       0.86      0.87      0.85      1708\n",
      "weighted avg       0.89      0.85      0.85      1708\n",
      "\n"
     ]
    },
    {
     "name": "stderr",
     "output_type": "stream",
     "text": [
      "c:\\Users\\rusla\\AppData\\Local\\Programs\\Python\\Python313\\Lib\\site-packages\\xgboost\\training.py:183: UserWarning: [22:38:49] WARNING: C:\\actions-runner\\_work\\xgboost\\xgboost\\src\\learner.cc:738: \n",
      "Parameters: { \"use_label_encoder\" } are not used.\n",
      "\n",
      "  bst.update(dtrain, iteration=i, fobj=obj)\n"
     ]
    }
   ],
   "source": [
    "# XGBoost Classifier\n",
    "\n",
    "xgb_base = XGBClassifier(\n",
    "    use_label_encoder=False,\n",
    "    eval_metric='logloss',\n",
    "    random_state=42\n",
    ")\n",
    "\n",
    "param_dist = {\n",
    "    'n_estimators': [100, 200, 300, 500],\n",
    "    'learning_rate': [0.01, 0.05, 0.1, 0.2],\n",
    "    'max_depth': [3, 4, 5, 6, 7],\n",
    "    'min_child_weight': [1, 3, 5],\n",
    "    'gamma': [0, 0.1, 0.3, 0.5],\n",
    "    'subsample': [0.7, 0.8, 0.9, 1.0],\n",
    "    'colsample_bytree': [0.7, 0.8, 0.9, 1.0],\n",
    "    'reg_alpha': [0, 0.1, 1],\n",
    "    'reg_lambda': [1, 3, 5]\n",
    "}\n",
    "\n",
    "random_search = RandomizedSearchCV(\n",
    "    estimator=xgb_base,\n",
    "    param_distributions=param_dist,\n",
    "    n_iter=100, \n",
    "    scoring='f1',\n",
    "    cv=3,\n",
    "    verbose=1,\n",
    "    random_state=42,\n",
    "    n_jobs=-1\n",
    ")\n",
    "\n",
    "random_search.fit(X_train, y_train)\n",
    "\n",
    "best_model = random_search.best_estimator_\n",
    "y_pred = best_model.predict(X_test)\n",
    "\n",
    "print(\"Best Parameters:\", random_search.best_params_)\n",
    "print(\"Classification Report:\", classification_report(y_test, y_pred))\n"
   ]
  },
  {
   "cell_type": "code",
   "execution_count": 260,
   "id": "9e447d28",
   "metadata": {},
   "outputs": [
    {
     "name": "stdout",
     "output_type": "stream",
     "text": [
      "CatBoost Best Params: {'learning_rate': 0.01, 'l2_leaf_reg': 1, 'iterations': 500, 'depth': 3, 'bagging_temperature': 0.5}\n",
      "              precision    recall  f1-score   support\n",
      "\n",
      "           0       0.73      0.99      0.84       683\n",
      "           1       0.99      0.75      0.85      1025\n",
      "\n",
      "    accuracy                           0.85      1708\n",
      "   macro avg       0.86      0.87      0.84      1708\n",
      "weighted avg       0.88      0.85      0.85      1708\n",
      "\n"
     ]
    }
   ],
   "source": [
    "# CatBoost Classifier\n",
    "\n",
    "cat = CatBoostClassifier(verbose=0)\n",
    "\n",
    "cat_params = {\n",
    "    'depth': [3, 4, 5, 6, 7, 8, 9, 10],\n",
    "    'learning_rate': [0.01, 0.05, 0.1, 0.2, 0.3],\n",
    "    'iterations': [100, 300, 500],\n",
    "    'l2_leaf_reg': [1, 3, 5, 7, 9],\n",
    "    'bagging_temperature': [0.0, 0.5, 1.0]\n",
    "}\n",
    "\n",
    "cat_search = RandomizedSearchCV(cat, cat_params, n_iter=30, scoring='f1', cv=3, n_jobs=-1, random_state=42)\n",
    "cat_search.fit(X_train, y_train)\n",
    "\n",
    "y_pred = cat_search.best_estimator_.predict(X_test)\n",
    "print(\"CatBoost Best Params:\", cat_search.best_params_)\n",
    "print(classification_report(y_test, y_pred))\n"
   ]
  },
  {
   "cell_type": "code",
   "execution_count": 261,
   "id": "c715e25d",
   "metadata": {},
   "outputs": [
    {
     "name": "stdout",
     "output_type": "stream",
     "text": [
      "Random Forest Best Params: {'n_estimators': 100, 'min_samples_split': 5, 'min_samples_leaf': 2, 'max_features': None, 'max_depth': 3, 'bootstrap': True}\n",
      "              precision    recall  f1-score   support\n",
      "\n",
      "           0       0.72      1.00      0.84       683\n",
      "           1       1.00      0.75      0.85      1025\n",
      "\n",
      "    accuracy                           0.85      1708\n",
      "   macro avg       0.86      0.87      0.85      1708\n",
      "weighted avg       0.89      0.85      0.85      1708\n",
      "\n"
     ]
    }
   ],
   "source": [
    "# Random Forest Classifier\n",
    "\n",
    "rf = RandomForestClassifier()\n",
    "\n",
    "rf_params = {\n",
    "    'n_estimators': [100, 200, 300],\n",
    "    'max_depth': [3, 5, 10, 20, None],\n",
    "    'min_samples_split': [2, 5, 10],\n",
    "    'min_samples_leaf': [1, 2, 4],\n",
    "    'max_features': ['sqrt', 'log2', None],\n",
    "    'bootstrap': [True, False]\n",
    "}\n",
    "\n",
    "rf_search = RandomizedSearchCV(rf, rf_params, n_iter=30, scoring='f1', cv=3, n_jobs=-1, random_state=42)\n",
    "rf_search.fit(X_train, y_train)\n",
    "\n",
    "y_pred = rf_search.best_estimator_.predict(X_test)\n",
    "print(\"Random Forest Best Params:\", rf_search.best_params_)\n",
    "print(classification_report(y_test, y_pred))\n"
   ]
  },
  {
   "cell_type": "code",
   "execution_count": 284,
   "id": "9bfdc804",
   "metadata": {},
   "outputs": [
    {
     "name": "stdout",
     "output_type": "stream",
     "text": [
      "Decision Tree Best Params: {'min_samples_split': 10, 'min_samples_leaf': 2, 'max_features': None, 'max_depth': 3, 'criterion': 'entropy'}\n",
      "              precision    recall  f1-score   support\n",
      "\n",
      "           0       0.72      1.00      0.84       683\n",
      "           1       1.00      0.75      0.85      1025\n",
      "\n",
      "    accuracy                           0.85      1708\n",
      "   macro avg       0.86      0.87      0.85      1708\n",
      "weighted avg       0.89      0.85      0.85      1708\n",
      "\n"
     ]
    }
   ],
   "source": [
    "# Decision Tree Classifier\n",
    "\n",
    "dt = DecisionTreeClassifier()\n",
    "\n",
    "dt_params = {\n",
    "    'max_depth': [3, 5, 10, 20, None],\n",
    "    'min_samples_split': [2, 5, 10],\n",
    "    'min_samples_leaf': [1, 2, 4],\n",
    "    'criterion': ['gini', 'entropy'],\n",
    "    'max_features': ['sqrt', 'log2', None]\n",
    "}\n",
    "\n",
    "dt_search = RandomizedSearchCV(dt, dt_params, n_iter=20, scoring='f1', cv=3, n_jobs=-1, random_state=42)\n",
    "dt_search.fit(X_train, y_train)\n",
    "\n",
    "y_pred = dt_search.best_estimator_.predict(X_test)\n",
    "print(\"Decision Tree Best Params:\", dt_search.best_params_)\n",
    "print(classification_report(y_test, y_pred))\n"
   ]
  },
  {
   "cell_type": "code",
   "execution_count": 268,
   "id": "12c038c5",
   "metadata": {},
   "outputs": [
    {
     "name": "stdout",
     "output_type": "stream",
     "text": [
      "Fitting 3 folds for each of 100 candidates, totalling 300 fits\n",
      "[LightGBM] [Info] Number of positive: 2391, number of negative: 1594\n",
      "[LightGBM] [Info] Auto-choosing col-wise multi-threading, the overhead of testing was 0.000768 seconds.\n",
      "You can set `force_col_wise=true` to remove the overhead.\n",
      "[LightGBM] [Info] Total Bins 4845\n",
      "[LightGBM] [Info] Number of data points in the train set: 3985, number of used features: 19\n",
      "[LightGBM] [Info] [binary:BoostFromScore]: pavg=0.600000 -> initscore=0.405465\n",
      "[LightGBM] [Info] Start training from score 0.405465\n",
      "[LightGBM] [Warning] No further splits with positive gain, best gain: -inf\n",
      "[LightGBM] [Warning] No further splits with positive gain, best gain: -inf\n",
      "[LightGBM] [Warning] No further splits with positive gain, best gain: -inf\n",
      "[LightGBM] [Warning] No further splits with positive gain, best gain: -inf\n",
      "[LightGBM] [Warning] No further splits with positive gain, best gain: -inf\n",
      "[LightGBM] [Warning] No further splits with positive gain, best gain: -inf\n",
      "[LightGBM] [Warning] No further splits with positive gain, best gain: -inf\n",
      "[LightGBM] [Warning] No further splits with positive gain, best gain: -inf\n",
      "[LightGBM] [Warning] No further splits with positive gain, best gain: -inf\n",
      "[LightGBM] [Warning] No further splits with positive gain, best gain: -inf\n",
      "[LightGBM] [Warning] No further splits with positive gain, best gain: -inf\n",
      "[LightGBM] [Warning] No further splits with positive gain, best gain: -inf\n",
      "[LightGBM] [Warning] No further splits with positive gain, best gain: -inf\n",
      "[LightGBM] [Warning] No further splits with positive gain, best gain: -inf\n",
      "[LightGBM] [Warning] No further splits with positive gain, best gain: -inf\n",
      "[LightGBM] [Warning] No further splits with positive gain, best gain: -inf\n",
      "[LightGBM] [Warning] No further splits with positive gain, best gain: -inf\n",
      "[LightGBM] [Warning] No further splits with positive gain, best gain: -inf\n",
      "[LightGBM] [Warning] No further splits with positive gain, best gain: -inf\n",
      "[LightGBM] [Warning] No further splits with positive gain, best gain: -inf\n",
      "[LightGBM] [Warning] No further splits with positive gain, best gain: -inf\n",
      "[LightGBM] [Warning] No further splits with positive gain, best gain: -inf\n",
      "[LightGBM] [Warning] No further splits with positive gain, best gain: -inf\n",
      "[LightGBM] [Warning] No further splits with positive gain, best gain: -inf\n",
      "[LightGBM] [Warning] No further splits with positive gain, best gain: -inf\n",
      "[LightGBM] [Warning] No further splits with positive gain, best gain: -inf\n",
      "[LightGBM] [Warning] No further splits with positive gain, best gain: -inf\n",
      "[LightGBM] [Warning] No further splits with positive gain, best gain: -inf\n",
      "[LightGBM] [Warning] No further splits with positive gain, best gain: -inf\n",
      "[LightGBM] [Warning] No further splits with positive gain, best gain: -inf\n",
      "[LightGBM] [Warning] No further splits with positive gain, best gain: -inf\n",
      "[LightGBM] [Warning] No further splits with positive gain, best gain: -inf\n",
      "[LightGBM] [Warning] No further splits with positive gain, best gain: -inf\n",
      "[LightGBM] [Warning] No further splits with positive gain, best gain: -inf\n",
      "[LightGBM] [Warning] No further splits with positive gain, best gain: -inf\n",
      "[LightGBM] [Warning] No further splits with positive gain, best gain: -inf\n",
      "[LightGBM] [Warning] No further splits with positive gain, best gain: -inf\n",
      "[LightGBM] [Warning] No further splits with positive gain, best gain: -inf\n",
      "[LightGBM] [Warning] No further splits with positive gain, best gain: -inf\n",
      "[LightGBM] [Warning] No further splits with positive gain, best gain: -inf\n",
      "[LightGBM] [Warning] No further splits with positive gain, best gain: -inf\n",
      "[LightGBM] [Warning] No further splits with positive gain, best gain: -inf\n",
      "[LightGBM] [Warning] No further splits with positive gain, best gain: -inf\n",
      "[LightGBM] [Warning] No further splits with positive gain, best gain: -inf\n",
      "[LightGBM] [Warning] No further splits with positive gain, best gain: -inf\n",
      "[LightGBM] [Warning] No further splits with positive gain, best gain: -inf\n",
      "[LightGBM] [Warning] No further splits with positive gain, best gain: -inf\n",
      "[LightGBM] [Warning] No further splits with positive gain, best gain: -inf\n",
      "[LightGBM] [Warning] No further splits with positive gain, best gain: -inf\n",
      "[LightGBM] [Warning] No further splits with positive gain, best gain: -inf\n",
      "[LightGBM] [Warning] No further splits with positive gain, best gain: -inf\n",
      "[LightGBM] [Warning] No further splits with positive gain, best gain: -inf\n",
      "[LightGBM] [Warning] No further splits with positive gain, best gain: -inf\n",
      "[LightGBM] [Warning] No further splits with positive gain, best gain: -inf\n",
      "[LightGBM] [Warning] No further splits with positive gain, best gain: -inf\n",
      "[LightGBM] [Warning] No further splits with positive gain, best gain: -inf\n",
      "[LightGBM] [Warning] No further splits with positive gain, best gain: -inf\n",
      "[LightGBM] [Warning] No further splits with positive gain, best gain: -inf\n",
      "[LightGBM] [Warning] No further splits with positive gain, best gain: -inf\n",
      "[LightGBM] [Warning] No further splits with positive gain, best gain: -inf\n",
      "[LightGBM] [Warning] No further splits with positive gain, best gain: -inf\n",
      "[LightGBM] [Warning] No further splits with positive gain, best gain: -inf\n",
      "[LightGBM] [Warning] No further splits with positive gain, best gain: -inf\n",
      "[LightGBM] [Warning] No further splits with positive gain, best gain: -inf\n",
      "[LightGBM] [Warning] No further splits with positive gain, best gain: -inf\n",
      "[LightGBM] [Warning] No further splits with positive gain, best gain: -inf\n",
      "[LightGBM] [Warning] No further splits with positive gain, best gain: -inf\n",
      "[LightGBM] [Warning] No further splits with positive gain, best gain: -inf\n",
      "[LightGBM] [Warning] No further splits with positive gain, best gain: -inf\n",
      "[LightGBM] [Warning] No further splits with positive gain, best gain: -inf\n",
      "[LightGBM] [Warning] No further splits with positive gain, best gain: -inf\n",
      "[LightGBM] [Warning] No further splits with positive gain, best gain: -inf\n",
      "[LightGBM] [Warning] No further splits with positive gain, best gain: -inf\n",
      "[LightGBM] [Warning] No further splits with positive gain, best gain: -inf\n",
      "[LightGBM] [Warning] No further splits with positive gain, best gain: -inf\n",
      "[LightGBM] [Warning] No further splits with positive gain, best gain: -inf\n",
      "[LightGBM] [Warning] No further splits with positive gain, best gain: -inf\n",
      "[LightGBM] [Warning] No further splits with positive gain, best gain: -inf\n",
      "[LightGBM] [Warning] No further splits with positive gain, best gain: -inf\n",
      "[LightGBM] [Warning] No further splits with positive gain, best gain: -inf\n",
      "[LightGBM] [Warning] No further splits with positive gain, best gain: -inf\n",
      "[LightGBM] [Warning] No further splits with positive gain, best gain: -inf\n",
      "[LightGBM] [Warning] No further splits with positive gain, best gain: -inf\n",
      "[LightGBM] [Warning] No further splits with positive gain, best gain: -inf\n",
      "[LightGBM] [Warning] No further splits with positive gain, best gain: -inf\n",
      "[LightGBM] [Warning] No further splits with positive gain, best gain: -inf\n",
      "[LightGBM] [Warning] No further splits with positive gain, best gain: -inf\n",
      "[LightGBM] [Warning] No further splits with positive gain, best gain: -inf\n",
      "[LightGBM] [Warning] No further splits with positive gain, best gain: -inf\n",
      "[LightGBM] [Warning] No further splits with positive gain, best gain: -inf\n",
      "[LightGBM] [Warning] No further splits with positive gain, best gain: -inf\n",
      "[LightGBM] [Warning] No further splits with positive gain, best gain: -inf\n",
      "[LightGBM] [Warning] No further splits with positive gain, best gain: -inf\n",
      "[LightGBM] [Warning] No further splits with positive gain, best gain: -inf\n",
      "[LightGBM] [Warning] No further splits with positive gain, best gain: -inf\n",
      "[LightGBM] [Warning] No further splits with positive gain, best gain: -inf\n",
      "[LightGBM] [Warning] No further splits with positive gain, best gain: -inf\n",
      "[LightGBM] [Warning] No further splits with positive gain, best gain: -inf\n",
      "[LightGBM] [Warning] No further splits with positive gain, best gain: -inf\n",
      "[LightGBM] [Warning] No further splits with positive gain, best gain: -inf\n",
      "Best Parameters: {'subsample': 0.6, 'num_leaves': 31, 'n_estimators': 100, 'min_child_samples': 20, 'max_depth': 3, 'learning_rate': 0.05, 'colsample_bytree': 0.6}\n",
      "Classification Report:               precision    recall  f1-score   support\n",
      "\n",
      "           0       0.72      0.99      0.84       683\n",
      "           1       0.99      0.75      0.85      1025\n",
      "\n",
      "    accuracy                           0.84      1708\n",
      "   macro avg       0.86      0.87      0.84      1708\n",
      "weighted avg       0.88      0.84      0.85      1708\n",
      "\n"
     ]
    }
   ],
   "source": [
    "# LGBM Classifier\n",
    "\n",
    "lgbm = LGBMClassifier(random_state=42)\n",
    "\n",
    "param_dist = {\n",
    "    'n_estimators': [100, 300, 500],\n",
    "    'learning_rate': [0.01, 0.05, 0.1],\n",
    "    'max_depth': [3, 5, 7, -1],\n",
    "    'num_leaves': [15, 31, 63],\n",
    "    'min_child_samples': [10, 20, 30],\n",
    "    'subsample': [0.6, 0.8, 1.0],\n",
    "    'colsample_bytree': [0.6, 0.8, 1.0]\n",
    "}\n",
    "\n",
    "random_search = RandomizedSearchCV(\n",
    "    estimator=lgbm,\n",
    "    param_distributions=param_dist,\n",
    "    n_iter=100,  \n",
    "    cv=3,\n",
    "    scoring='f1',\n",
    "    verbose=1,\n",
    "    random_state=42,\n",
    "    n_jobs=-1\n",
    ")\n",
    "\n",
    "random_search.fit(X_train, y_train)\n",
    "\n",
    "best_lgbm = random_search.best_estimator_\n",
    "y_pred = best_lgbm.predict(X_test)\n",
    "print(\"Best Parameters:\", random_search.best_params_)\n",
    "print(\"Classification Report:\", classification_report(y_test, y_pred))\n"
   ]
  },
  {
   "cell_type": "markdown",
   "id": "a18b123a",
   "metadata": {},
   "source": [
    "#### Looking at the hyper tuned models using RandomizedSearchCV none of the tuned results showed that increased precision and recall for class 1 that I was looking for. I additionally played with `make_scorer` and `Optuna` plugins but results stayed stagnant. So I will be sticking with the untuned LGBM classifier, this was unexpected but after some research it makes sense why LGBM was superior:\n",
    "- First, LGBM is a gradient boosting decision tree algorithm, so its using decion tree rules to split data into binary splits based on the target - this is fundamentally how you'd want this model to behave for this data\n",
    "- It captures non linear relationships between features, such as interactions between EMA slope and RSI values, which are difficult to model linearly\n",
    "- Lastly, its default parameters are well tuned for many general use cases, with built in regularization and overfitting control via parameters like `num_leaves`, `max_depth`, and `min_child_samples`."
   ]
  },
  {
   "cell_type": "code",
   "execution_count": 293,
   "id": "24807c2a",
   "metadata": {},
   "outputs": [
    {
     "name": "stdout",
     "output_type": "stream",
     "text": [
      "[LightGBM] [Info] Number of positive: 2391, number of negative: 1594\n",
      "[LightGBM] [Info] Auto-choosing col-wise multi-threading, the overhead of testing was 0.001286 seconds.\n",
      "You can set `force_col_wise=true` to remove the overhead.\n",
      "[LightGBM] [Info] Total Bins 4845\n",
      "[LightGBM] [Info] Number of data points in the train set: 3985, number of used features: 19\n",
      "[LightGBM] [Info] [binary:BoostFromScore]: pavg=0.600000 -> initscore=0.405465\n",
      "[LightGBM] [Info] Start training from score 0.405465\n",
      "              precision    recall  f1-score   support\n",
      "\n",
      "           0       0.74      0.93      0.82       683\n",
      "           1       0.94      0.78      0.85      1025\n",
      "\n",
      "    accuracy                           0.84      1708\n",
      "   macro avg       0.84      0.85      0.84      1708\n",
      "weighted avg       0.86      0.84      0.84      1708\n",
      "\n"
     ]
    }
   ],
   "source": [
    "# LGBM Classifier\n",
    "\n",
    "LGBM = LGBMClassifier(random_state=42)\n",
    "LGBM.fit(X_train, y_train)\n",
    "\n",
    "y_pred = LGBM.predict(X_test)\n",
    "print(classification_report(y_test, y_pred))"
   ]
  },
  {
   "cell_type": "markdown",
   "id": "76f9a21d",
   "metadata": {},
   "source": [
    "#### Lets further evaluate our model"
   ]
  },
  {
   "cell_type": "code",
   "execution_count": 269,
   "id": "3d1398c2",
   "metadata": {},
   "outputs": [
    {
     "data": {
      "image/png": "[encoded data removed]",
      "text/plain": [
       "<Figure size 640x480 with 2 Axes>"
      ]
     },
     "metadata": {},
     "output_type": "display_data"
    }
   ],
   "source": [
    "# LGBM Confusion Matrix\n",
    "\n",
    "ConfusionMatrixDisplay(confusion_matrix(y_test, y_pred)).plot(cmap=\"Blues\")\n",
    "plt.title(\"Confusion Matrix\")\n",
    "plt.show()"
   ]
  },
  {
   "cell_type": "markdown",
   "id": "9b572361",
   "metadata": {},
   "source": [
    "#### This matrix shows that the model correctly classified 674 of the class 0 (underperforming) cases and 768 of the class 1 (outperforming) cases, with a moderate number of false positives 9 and false negatives 257"
   ]
  },
  {
   "cell_type": "code",
   "execution_count": 288,
   "id": "1d5f1333",
   "metadata": {},
   "outputs": [
    {
     "data": {
      "image/png": "[encoded data removed]",
      "text/plain": [
       "<Figure size 640x480 with 1 Axes>"
      ]
     },
     "metadata": {},
     "output_type": "display_data"
    }
   ],
   "source": [
    "#LGBM ROC Curve\n",
    "\n",
    "probs = LGBM.predict_proba(X_test)[:, 1]\n",
    "fpr, tpr, thresholds = roc_curve(y_test, probs)\n",
    "roc_auc = auc(fpr, tpr)\n",
    "\n",
    "plt.plot(fpr, tpr, label=f\"AUC = {roc_auc:.2f}\")\n",
    "plt.plot([0, 1], [0, 1], 'k--')\n",
    "plt.xlabel(\"False Positive Rate\")\n",
    "plt.ylabel(\"True Positive Rate\")\n",
    "plt.title(\"ROC Curve\")\n",
    "plt.legend()\n",
    "plt.show()\n"
   ]
  },
  {
   "cell_type": "markdown",
   "id": "342dad60",
   "metadata": {},
   "source": [
    "#### An AUC score of 0.89 indicates strong separability between the two classes showing that the model is capable of distinguishing good trading signals from poor ones"
   ]
  },
  {
   "cell_type": "code",
   "execution_count": 276,
   "id": "1f5c3a2f",
   "metadata": {},
   "outputs": [
    {
     "data": {
      "image/png": "[encoded data removed]",
      "text/plain": [
       "<Figure size 640x480 with 1 Axes>"
      ]
     },
     "metadata": {},
     "output_type": "display_data"
    }
   ],
   "source": [
    "# LGBM Predicted Class 1 Probabilities\n",
    "\n",
    "sns.histplot(probs, bins=50)\n",
    "plt.title(\"Predicted Probabilities for Class 1\")\n",
    "plt.xlabel(\"Probability\")\n",
    "plt.ylabel(\"Count\")\n",
    "plt.show()\n"
   ]
  },
  {
   "cell_type": "markdown",
   "id": "13a86d1c",
   "metadata": {},
   "source": [
    "#### This histogram shows the predicted probability distribution for the good crossover signals, class 1. The peak near 1.0 suggests high model confidence in many of its predictions with a long tail indicating varying uncertainty in other predictions"
   ]
  },
  {
   "cell_type": "code",
   "execution_count": 290,
   "id": "c38c4c42",
   "metadata": {},
   "outputs": [
    {
     "data": {
      "image/png": "[encoded data removed]",
      "text/plain": [
       "<Figure size 640x480 with 1 Axes>"
      ]
     },
     "metadata": {},
     "output_type": "display_data"
    }
   ],
   "source": [
    "X_test_with_probs = X_test.copy()\n",
    "X_test_with_probs['prob_1'] = probs\n",
    "X_test_with_probs['label'] = y_test.values\n",
    "\n",
    "sns.boxplot(x='label', y='prob_1', data=X_test_with_probs)\n",
    "plt.title(\"Probability Distribution by Label\")\n",
    "plt.xlabel(\"Label (1 = Good Cross)\")\n",
    "plt.ylabel(\"Predicted Probability\")\n",
    "plt.grid(True)\n",
    "plt.show()\n"
   ]
  },
  {
   "cell_type": "markdown",
   "id": "01176b50",
   "metadata": {},
   "source": [
    "#### This boxplot shows class 1 examples have significantly higher predicted probabilities compared to class 0, confirming that the model is correctly assigning higher confidence to truly positive cases while still maintaining a reasonable spread"
   ]
  },
  {
   "cell_type": "code",
   "execution_count": 273,
   "id": "839f5f9d",
   "metadata": {},
   "outputs": [
    {
     "data": {
      "image/png": "[encoded data removed]",
      "text/plain": [
       "<Figure size 1000x600 with 1 Axes>"
      ]
     },
     "metadata": {},
     "output_type": "display_data"
    }
   ],
   "source": [
    "# Feature Importance\n",
    "\n",
    "feature_importances = pd.DataFrame({\n",
    "    'Feature': X_train.columns,\n",
    "    'Importance': LGBM.feature_importances_\n",
    "}).sort_values(by='Importance', ascending=False)\n",
    "\n",
    "plt.figure(figsize=(10, 6))\n",
    "plt.barh(feature_importances['Feature'], feature_importances['Importance'], color='teal')\n",
    "plt.gca().invert_yaxis()\n",
    "plt.xlabel(\"Importance Score\")\n",
    "plt.title(\"LGBM Feature Importance\")\n",
    "plt.show()\n"
   ]
  },
  {
   "cell_type": "markdown",
   "id": "5722038f",
   "metadata": {},
   "source": [
    "#### This feature importance shows indicators like `macd_diff`, `RSI_14`, and `CCI_20` were the most influential in determining the class label, highlighting which technical indicators had the strongest predictive value"
   ]
  },
  {
   "cell_type": "markdown",
   "id": "6ad292fd",
   "metadata": {},
   "source": [
    "## Simulated Backtest\n",
    "\n",
    "Once our champion model has been selected and evaluated its now time to test our predictions in a simulated backtest. Here's how it will flow:\n",
    "- The backtest will be run on one stock, it will not be a portfolio backtest \n",
    "- Initial cash is set to $10,000\n",
    "- A buy signal will be generated depending if the LGBM model predicted a good cross (class 1)\n",
    "- A sell signal will be generated once EMA50 goes equal or below EMA200 (EMA50 <= EMA200)\n",
    "- For every buy signal, purchase as much stock with the cash available (all in)\n",
    "- For every sell signal, sell all stock\n",
    "\n",
    "To emphasize, the goal of this backtest isn't to aim for a high return percentage, its to see if the model is able to learn the patterns that make a profitbale EMA crossover. Although, this strategy can be implemented with other strategies that would equate to a high cumulative return."
   ]
  },
  {
   "cell_type": "code",
   "execution_count": null,
   "id": "419657c0",
   "metadata": {},
   "outputs": [
    {
     "data": {
      "application/vnd.jupyter.widget-view+json": {
       "model_id": "8332a378cdef4c67a219f0c47d743769",
       "version_major": 2,
       "version_minor": 0
      },
      "text/plain": [
       "VBox(children=(Dropdown(description='Ticker:', options=('A', 'AAPL', 'ABBV', 'ABNB', 'ABT', 'ACGL', 'ACN', 'AD…"
      ]
     },
     "metadata": {},
     "output_type": "display_data"
    },
    {
     "data": {
      "application/vnd.jupyter.widget-view+json": {
       "model_id": "45174d6d6f784428861422571e682f9c",
       "version_major": 2,
       "version_minor": 0
      },
      "text/plain": [
       "Output()"
      ]
     },
     "metadata": {},
     "output_type": "display_data"
    }
   ],
   "source": [
    "tickers = sorted(df_flat['Ticker'].unique().tolist())\n",
    "timeframe_options = {\n",
    "    \"All\": None,\n",
    "    \"3 Months\": 90,\n",
    "    \"9 Months\": 270,\n",
    "    \"1 Year\": 365,\n",
    "    \"3 Years\": 365 * 3,\n",
    "    \"5 Years\": 365 * 5\n",
    "}\n",
    "\n",
    "ticker_widget = widgets.Dropdown(options=tickers, description='Ticker:')\n",
    "timeframe_widget = widgets.Dropdown(options=list(timeframe_options.keys()), description='Timeframe:')\n",
    "run_button = widgets.Button(description='Run', button_style='success')\n",
    "output = widgets.Output()\n",
    "\n",
    "\n",
    "def on_run_clicked(b):\n",
    "    with output:\n",
    "        clear_output(wait=True)\n",
    "        \n",
    "        ticker = ticker_widget.value\n",
    "        days = timeframe_options[timeframe_widget.value]\n",
    "        \n",
    "        df = df_flat[df_flat['Ticker'] == ticker].copy()\n",
    "        df['Date'] = pd.to_datetime(df['Date'])\n",
    "        df.sort_values('Date', inplace=True)\n",
    "        if days:\n",
    "            cutoff = df['Date'].max() - timedelta(days=days)\n",
    "            df = df[df['Date'] >= cutoff]\n",
    "\n",
    "        X_cols = LGBM.feature_name_ if hasattr(LGBM, 'feature_name_') else df.columns.difference(['Date', 'Ticker', 'label'])\n",
    "        df['predicted_proba'] = LGBM.predict_proba(df[X_cols])[:, 1]\n",
    "        crosses = df[df['crossover']].copy()\n",
    "        crosses = crosses[['Date', 'Ticker', 'Close', 'predicted_proba', 'label']]\n",
    "\n",
    "        # Simulated backtest\n",
    "        initial_cash = 10000\n",
    "        cash = initial_cash\n",
    "        position = 0\n",
    "        holding = False\n",
    "        buy_price = 0\n",
    "        trade_log = []\n",
    "\n",
    "        df['position_value'] = 0.0\n",
    "        df['buy_signal'] = False\n",
    "        df['sell_signal'] = False\n",
    "\n",
    "        for i in range(len(df)):\n",
    "            row = df.iloc[i]\n",
    "            if not holding and row['crossover'] and row['label'] == 1:\n",
    "                position = cash / row['Close']\n",
    "                buy_price = row['Close']\n",
    "                cash = 0\n",
    "                holding = True\n",
    "                df.at[df.index[i], 'buy_signal'] = True\n",
    "                trade_log.append({\n",
    "                    'Date': row['Date'],\n",
    "                    'Action': 'Buy',\n",
    "                    'Buy Price': round(buy_price, 2),\n",
    "                    'Sell Price': None,\n",
    "                    'Profit %': None\n",
    "                })\n",
    "            elif holding and row['EMA50'] <= row['EMA200']:\n",
    "                sell_price = row['Close']\n",
    "                cash = position * sell_price\n",
    "                profit_pct = ((sell_price - buy_price) / buy_price) * 100\n",
    "                holding = False\n",
    "                position = 0\n",
    "                df.at[df.index[i], 'sell_signal'] = True\n",
    "                trade_log.append({\n",
    "                    'Date': row['Date'],\n",
    "                    'Action': 'Sell',\n",
    "                    'Buy Price': None,\n",
    "                    'Sell Price': round(sell_price, 2),\n",
    "                    'Profit %': f\"{round(profit_pct, 2)}%\"\n",
    "                })\n",
    "            df.at[df.index[i], 'position_value'] = position * row['Close'] if holding else cash\n",
    "\n",
    "        final_value = df['position_value'].iloc[-1]\n",
    "        cumulative_return = (final_value - initial_cash) / initial_cash * 100\n",
    "\n",
    "        plt.figure(figsize=(14, 6))\n",
    "        plt.plot(df['Date'], df['Close'], label='Close', color='black')\n",
    "        plt.plot(df['Date'], df['EMA50'], label='EMA50', color='deepskyblue')\n",
    "        plt.plot(df['Date'], df['EMA200'], label='EMA200', color='orange')\n",
    "        plt.scatter(df[df['crossover'] & (df['label'] == 1)]['Date'], \n",
    "                    df[df['crossover'] & (df['label'] == 1)]['Close'], \n",
    "                    color='green', marker='^', label='Good Cross', zorder=5)\n",
    "        plt.scatter(df[df['crossover'] & (df['label'] == 0)]['Date'], \n",
    "                    df[df['crossover'] & (df['label'] == 0)]['Close'], \n",
    "                    color='red', marker='v', label='Bad Cross', zorder=5)\n",
    "\n",
    "        for d in df[df['buy_signal']]['Date']:\n",
    "            plt.axvline(d, color='green', linestyle='--', linewidth=1.5)\n",
    "        for d in df[df['sell_signal']]['Date']:\n",
    "            plt.axvline(d, color='red', linestyle='--', linewidth=1.5)\n",
    "\n",
    "        buy_line = mlines.Line2D([], [], color='green', linestyle='--', label='Buy Signal')\n",
    "        sell_line = mlines.Line2D([], [], color='red', linestyle='--', label='Sell Signal')\n",
    "\n",
    "        plt.title(f\"{ticker} EMA Crossover Strategy\")\n",
    "        plt.xlabel(\"Date\")\n",
    "        plt.ylabel(\"Price\")\n",
    "        plt.gca().yaxis.set_major_formatter(FuncFormatter(lambda x, _: f'${x:,.0f}'))\n",
    "        plt.grid(True)\n",
    "        plt.legend(loc='upper left', handles=[\n",
    "            plt.Line2D([], [], color='black', label='Close'),\n",
    "            plt.Line2D([], [], color='blue', label='EMA50'),\n",
    "            plt.Line2D([], [], color='orange', label='EMA200'),\n",
    "            mlines.Line2D([], [], color='green', marker='^', linestyle='None', label='Good Cross'),\n",
    "            mlines.Line2D([], [], color='red', marker='v', linestyle='None', label='Bad Cross'),\n",
    "            buy_line,\n",
    "            sell_line\n",
    "        ])\n",
    "        plt.show()\n",
    "\n",
    "        display(crosses.sort_values('Date'))\n",
    "        print(f\"\\nFinal Portfolio Value: ${final_value:,.2f}\")\n",
    "        print(f\"Cumulative Return: {cumulative_return:.2f}%\")\n",
    "\n",
    "        trade_df = pd.DataFrame(trade_log)\n",
    "        print(\"\\nTrade Log:\")\n",
    "        trade_df = trade_df.fillna('')\n",
    "        display(trade_df)\n",
    "\n",
    "run_button.on_click(on_run_clicked)\n",
    "display(widgets.VBox([ticker_widget, timeframe_widget, run_button]), output)"
   ]
  },
  {
   "cell_type": "markdown",
   "id": "4c942c3b",
   "metadata": {},
   "source": [
    "## Conclusion\n",
    "\n",
    "This notebook explored a data driven approach to identifying profitable EMA crossover events using machine learning. By engineering features from common technical indicators and training a LightGBM classifier, we were able to isolate high probability \"good\" crossovers across S&P 500 stocks.\n",
    "\n",
    "The model achieved an accuracy of 84%, with a fair balance between precision and recall for good crossover signals. Feature importance analysis confirmed that MACD divergence, RSI(14), and CCI(20) were key drivers in identifying profitable trades.\n",
    "\n",
    "To test this model in a realistic trading scenario, we created a simulated backtest where trades were initiated at model predicted \"good\" crossovers and exited when EMA50 dropped below or on par to EMA200. Most of the \"good\" crossovers became quite profitable and the \"bad\" crosses were mostly unsuccessful achieving little profit or loss.\n",
    "\n",
    "## Insights & Opportunities\n",
    "\n",
    "- Its visible that the model struggles identifying \"good\" and \"bad\" crossovers when the stock price is in consolidation, in other words when the price is moving sideways trying to figure out which direction to go. Its understandable why the model struggles in this situation, the model possibly needs access to more technical indicators or a hard coded logic setup that helps deal with this type of situation. \n",
    "\n",
    "- Further setup to the backtest can be done focusing on the sell signal as it is quite lagging behind. Additionally, the buy signal is also lagging as by the time the \"good\" cross have formed there is quite a gap from the most recent lowest price point. If we were able to adjust these signals accordingly it would account for more profitable trades.\n",
    "\n",
    "- The buy and sell signal can be further improved when dealing with a portfolio, so you can weigh the amount of shares to allocate for each stock. Additional macro economics data and/or industry based data could prove to be helpful with this.\n",
    "\n",
    "- A negative aspect on this strategy is that these crossovers don't happen often so your forced to only think long term. A combination of some short term strategy with this long term approach would support a much higher cumulative return.\n",
    "\n",
    "- This framework can be easily adapted to include other strategies; and be used in live trading platforms. \n",
    "\n",
    "- This setup can also be engineered into a stock screener where a system scans and predicts the success probability of any crossovers that occur between the EMA50 and the EMA200 for all live trading stocks.\n",
    "\n",
    "\n",
    "Concluding, this notebook serves as a strong foundation for building machine learning enhanced technical trading systems, transforming a basic EMA crossover into a more robust and informed decision engine."
   ]
  }
 ],
 "metadata": {
  "kernelspec": {
   "display_name": "Python 3",
   "language": "python",
   "name": "python3"
  },
  "language_info": {
   "codemirror_mode": {
    "name": "ipython",
    "version": 3
   },
   "file_extension": ".py",
   "mimetype": "text/x-python",
   "name": "python",
   "nbconvert_exporter": "python",
   "pygments_lexer": "ipython3",
   "version": "3.13.2"
  }
 },
 "nbformat": 4,
 "nbformat_minor": 5
}
